{
  "nbformat": 4,
  "nbformat_minor": 0,
  "metadata": {
    "colab": {
      "provenance": []
    },
    "kernelspec": {
      "name": "python3",
      "display_name": "Python 3"
    },
    "language_info": {
      "name": "python"
    }
  },
  "cells": [
    {
      "cell_type": "code",
      "execution_count": 3,
      "metadata": {
        "colab": {
          "base_uri": "https://localhost:8080/"
        },
        "id": "EM4mBlBCdMXZ",
        "outputId": "5b2e75fc-0f43-4d11-8ead-121d71cb1efd"
      },
      "outputs": [
        {
          "output_type": "stream",
          "name": "stdout",
          "text": [
            "Drive already mounted at /content/drive; to attempt to forcibly remount, call drive.mount(\"/content/drive\", force_remount=True).\n"
          ]
        }
      ],
      "source": [
        "from google.colab import drive\n",
        "drive.mount('/content/drive')"
      ]
    },
    {
      "cell_type": "code",
      "source": [
        "%cd /content/drive/MyDrive/IT20212940"
      ],
      "metadata": {
        "colab": {
          "base_uri": "https://localhost:8080/"
        },
        "id": "7Wz207yAda14",
        "outputId": "c9f52379-8d71-4c79-fd04-9d0daf9f3639"
      },
      "execution_count": 4,
      "outputs": [
        {
          "output_type": "stream",
          "name": "stdout",
          "text": [
            "/content/drive/MyDrive/IT20212940\n"
          ]
        }
      ]
    },
    {
      "cell_type": "code",
      "source": [
        "train_path = 'Training_data'\n",
        "valid_path = 'Testing_data'"
      ],
      "metadata": {
        "id": "1TzBgt6-da4b"
      },
      "execution_count": 10,
      "outputs": []
    },
    {
      "cell_type": "code",
      "source": [
        "import tensorflow as tf\n",
        "\n",
        "model = tf.keras.models.Sequential([\n",
        "\t\n",
        "#1 convolution \n",
        "\ttf.keras.layers.Conv2D(filters=2,kernel_size=3,activation='sigmoid',strides=1,input_shape=(124,124,3)),\n",
        "\ttf.keras.layers.MaxPooling2D(2, 2),\n",
        "#2 convolution\n",
        "\ttf.keras.layers.Conv2D(filters=2,kernel_size=3,activation='relu',strides=1),\n",
        "\ttf.keras.layers.MaxPooling2D(pool_size=2),\n",
        "\n",
        "\n",
        "\ttf.keras.layers.Flatten(), #into column vector\n",
        "\n",
        "#50 neurons in the hidden layer\n",
        "\ttf.keras.layers.Dense(50,activation='relu'),\n",
        "\n",
        "#Reduce the neurons in the hidden layer to avoid overfitting as a drop out\n",
        "  tf.keras.layers.Dense(25,activation='relu'),\n",
        "\n",
        "  tf.keras.layers.Dense(5,activation='relu'),\n",
        " \n",
        "#5 output neuron \n",
        "\ttf.keras.layers.Dense(5,activation='softmax')\n",
        "\t\n",
        "])"
      ],
      "metadata": {
        "id": "XiPJw104da64"
      },
      "execution_count": 5,
      "outputs": []
    },
    {
      "cell_type": "code",
      "source": [
        "model.summary()"
      ],
      "metadata": {
        "colab": {
          "base_uri": "https://localhost:8080/"
        },
        "id": "GsEFXwucda9l",
        "outputId": "625e51b3-029c-4adc-e3bf-831ab83793db"
      },
      "execution_count": 6,
      "outputs": [
        {
          "output_type": "stream",
          "name": "stdout",
          "text": [
            "Model: \"sequential\"\n",
            "_________________________________________________________________\n",
            " Layer (type)                Output Shape              Param #   \n",
            "=================================================================\n",
            " conv2d (Conv2D)             (None, 122, 122, 2)       56        \n",
            "                                                                 \n",
            " max_pooling2d (MaxPooling2D  (None, 61, 61, 2)        0         \n",
            " )                                                               \n",
            "                                                                 \n",
            " conv2d_1 (Conv2D)           (None, 59, 59, 2)         38        \n",
            "                                                                 \n",
            " max_pooling2d_1 (MaxPooling  (None, 29, 29, 2)        0         \n",
            " 2D)                                                             \n",
            "                                                                 \n",
            " flatten (Flatten)           (None, 1682)              0         \n",
            "                                                                 \n",
            " dense (Dense)               (None, 50)                84150     \n",
            "                                                                 \n",
            " dense_1 (Dense)             (None, 25)                1275      \n",
            "                                                                 \n",
            " dense_2 (Dense)             (None, 5)                 130       \n",
            "                                                                 \n",
            " dense_3 (Dense)             (None, 5)                 30        \n",
            "                                                                 \n",
            "=================================================================\n",
            "Total params: 85,679\n",
            "Trainable params: 85,679\n",
            "Non-trainable params: 0\n",
            "_________________________________________________________________\n"
          ]
        }
      ]
    },
    {
      "cell_type": "code",
      "source": [
        "from tensorflow.keras.optimizers import RMSprop\n",
        "model.compile(loss='categorical_crossentropy',optimizer=RMSprop(lr=0.001),metrics=['accuracy'])"
      ],
      "metadata": {
        "colab": {
          "base_uri": "https://localhost:8080/"
        },
        "id": "8YS8HcHVda_z",
        "outputId": "ab18ebf4-53b3-4bc6-9e1a-f4bd22e1c87b"
      },
      "execution_count": 7,
      "outputs": [
        {
          "output_type": "stream",
          "name": "stderr",
          "text": [
            "/usr/local/lib/python3.7/dist-packages/keras/optimizer_v2/rmsprop.py:130: UserWarning: The `lr` argument is deprecated, use `learning_rate` instead.\n",
            "  super(RMSprop, self).__init__(name, **kwargs)\n"
          ]
        }
      ]
    },
    {
      "cell_type": "code",
      "source": [
        "from tensorflow.keras.preprocessing.image import ImageDataGenerator\n",
        "\n",
        "train_datagen = ImageDataGenerator(rescale = 1./255)\n",
        "\n",
        "train_generator = train_datagen.flow_from_directory(train_path,target_size=(124,124),batch_size=16,class_mode='categorical')\n",
        "\n",
        "test_datagen = ImageDataGenerator(rescale = 1./255)\n",
        "\n",
        "test_set = train_datagen.flow_from_directory(valid_path,target_size=(124,124),batch_size=32,class_mode='categorical')\n"
      ],
      "metadata": {
        "colab": {
          "base_uri": "https://localhost:8080/"
        },
        "id": "yqEzuPRzdbCX",
        "outputId": "e3c8976b-f077-4952-caf0-988b84ab3809"
      },
      "execution_count": 11,
      "outputs": [
        {
          "output_type": "stream",
          "name": "stdout",
          "text": [
            "Found 523 images belonging to 5 classes.\n",
            "Found 128 images belonging to 5 classes.\n"
          ]
        }
      ]
    },
    {
      "cell_type": "code",
      "source": [
        "history = model.fit(train_generator,validation_data=test_set,steps_per_epoch=8,epochs=50)"
      ],
      "metadata": {
        "colab": {
          "base_uri": "https://localhost:8080/"
        },
        "id": "rUDSHOqHdbEx",
        "outputId": "71ed963d-0aee-4ba3-d62a-fe27f0c1d0aa"
      },
      "execution_count": 12,
      "outputs": [
        {
          "output_type": "stream",
          "name": "stdout",
          "text": [
            "Epoch 1/50\n",
            "8/8 [==============================] - 3s 259ms/step - loss: 1.6137 - accuracy: 0.1875 - val_loss: 1.6076 - val_accuracy: 0.2188\n",
            "Epoch 2/50\n",
            "8/8 [==============================] - 2s 215ms/step - loss: 1.5931 - accuracy: 0.2422 - val_loss: 1.5997 - val_accuracy: 0.2500\n",
            "Epoch 3/50\n",
            "8/8 [==============================] - 2s 205ms/step - loss: 1.5843 - accuracy: 0.2846 - val_loss: 1.6239 - val_accuracy: 0.2188\n",
            "Epoch 4/50\n",
            "8/8 [==============================] - 2s 209ms/step - loss: 1.6019 - accuracy: 0.2033 - val_loss: 1.6015 - val_accuracy: 0.2266\n",
            "Epoch 5/50\n",
            "8/8 [==============================] - 2s 207ms/step - loss: 1.5784 - accuracy: 0.2266 - val_loss: 1.6033 - val_accuracy: 0.2109\n",
            "Epoch 6/50\n",
            "8/8 [==============================] - 2s 212ms/step - loss: 1.5711 - accuracy: 0.2578 - val_loss: 1.5967 - val_accuracy: 0.2188\n",
            "Epoch 7/50\n",
            "8/8 [==============================] - 2s 207ms/step - loss: 1.5811 - accuracy: 0.2358 - val_loss: 1.6322 - val_accuracy: 0.2266\n",
            "Epoch 8/50\n",
            "8/8 [==============================] - 2s 215ms/step - loss: 1.5877 - accuracy: 0.1953 - val_loss: 1.5899 - val_accuracy: 0.2109\n",
            "Epoch 9/50\n",
            "8/8 [==============================] - 2s 209ms/step - loss: 1.5786 - accuracy: 0.2578 - val_loss: 1.5858 - val_accuracy: 0.2031\n",
            "Epoch 10/50\n",
            "8/8 [==============================] - 2s 210ms/step - loss: 1.5729 - accuracy: 0.3047 - val_loss: 1.5874 - val_accuracy: 0.2109\n",
            "Epoch 11/50\n",
            "8/8 [==============================] - 2s 205ms/step - loss: 1.5936 - accuracy: 0.2520 - val_loss: 1.5750 - val_accuracy: 0.1875\n",
            "Epoch 12/50\n",
            "8/8 [==============================] - 2s 210ms/step - loss: 1.5676 - accuracy: 0.2188 - val_loss: 1.5749 - val_accuracy: 0.2344\n",
            "Epoch 13/50\n",
            "8/8 [==============================] - 2s 206ms/step - loss: 1.5498 - accuracy: 0.2439 - val_loss: 1.5727 - val_accuracy: 0.2109\n",
            "Epoch 14/50\n",
            "8/8 [==============================] - 2s 208ms/step - loss: 1.5572 - accuracy: 0.2276 - val_loss: 1.5707 - val_accuracy: 0.2500\n",
            "Epoch 15/50\n",
            "8/8 [==============================] - 2s 213ms/step - loss: 1.5282 - accuracy: 0.2891 - val_loss: 1.5597 - val_accuracy: 0.2422\n",
            "Epoch 16/50\n",
            "8/8 [==============================] - 2s 214ms/step - loss: 1.5422 - accuracy: 0.2812 - val_loss: 1.5517 - val_accuracy: 0.2500\n",
            "Epoch 17/50\n",
            "8/8 [==============================] - 2s 211ms/step - loss: 1.5312 - accuracy: 0.2344 - val_loss: 1.5566 - val_accuracy: 0.2734\n",
            "Epoch 18/50\n",
            "8/8 [==============================] - 2s 204ms/step - loss: 1.5103 - accuracy: 0.3252 - val_loss: 1.5511 - val_accuracy: 0.2891\n",
            "Epoch 19/50\n",
            "8/8 [==============================] - 2s 212ms/step - loss: 1.5307 - accuracy: 0.3203 - val_loss: 1.5399 - val_accuracy: 0.2578\n",
            "Epoch 20/50\n",
            "8/8 [==============================] - 2s 214ms/step - loss: 1.5055 - accuracy: 0.3281 - val_loss: 1.5456 - val_accuracy: 0.2578\n",
            "Epoch 21/50\n",
            "8/8 [==============================] - 2s 211ms/step - loss: 1.5004 - accuracy: 0.3438 - val_loss: 1.5676 - val_accuracy: 0.2109\n",
            "Epoch 22/50\n",
            "8/8 [==============================] - 2s 202ms/step - loss: 1.5411 - accuracy: 0.3008 - val_loss: 1.5450 - val_accuracy: 0.3281\n",
            "Epoch 23/50\n",
            "8/8 [==============================] - 2s 216ms/step - loss: 1.4833 - accuracy: 0.3359 - val_loss: 1.5254 - val_accuracy: 0.3594\n",
            "Epoch 24/50\n",
            "8/8 [==============================] - 2s 210ms/step - loss: 1.4933 - accuracy: 0.3333 - val_loss: 1.5183 - val_accuracy: 0.3281\n",
            "Epoch 25/50\n",
            "8/8 [==============================] - 2s 212ms/step - loss: 1.4822 - accuracy: 0.2969 - val_loss: 1.5207 - val_accuracy: 0.2734\n",
            "Epoch 26/50\n",
            "8/8 [==============================] - 2s 210ms/step - loss: 1.4400 - accuracy: 0.3125 - val_loss: 1.5339 - val_accuracy: 0.2188\n",
            "Epoch 27/50\n",
            "8/8 [==============================] - 2s 210ms/step - loss: 1.5180 - accuracy: 0.3594 - val_loss: 1.5173 - val_accuracy: 0.3203\n",
            "Epoch 28/50\n",
            "8/8 [==============================] - 2s 212ms/step - loss: 1.4443 - accuracy: 0.3516 - val_loss: 1.5094 - val_accuracy: 0.3672\n",
            "Epoch 29/50\n",
            "8/8 [==============================] - 2s 218ms/step - loss: 1.4504 - accuracy: 0.3594 - val_loss: 1.5082 - val_accuracy: 0.3047\n",
            "Epoch 30/50\n",
            "8/8 [==============================] - 2s 216ms/step - loss: 1.4519 - accuracy: 0.4141 - val_loss: 1.5132 - val_accuracy: 0.2969\n",
            "Epoch 31/50\n",
            "8/8 [==============================] - 2s 217ms/step - loss: 1.4358 - accuracy: 0.4375 - val_loss: 1.4930 - val_accuracy: 0.3516\n",
            "Epoch 32/50\n",
            "8/8 [==============================] - 2s 207ms/step - loss: 1.4247 - accuracy: 0.4228 - val_loss: 1.5140 - val_accuracy: 0.3359\n",
            "Epoch 33/50\n",
            "8/8 [==============================] - 2s 212ms/step - loss: 1.4766 - accuracy: 0.4141 - val_loss: 1.5161 - val_accuracy: 0.3203\n",
            "Epoch 34/50\n",
            "8/8 [==============================] - 2s 205ms/step - loss: 1.4068 - accuracy: 0.4228 - val_loss: 1.4901 - val_accuracy: 0.3281\n",
            "Epoch 35/50\n",
            "8/8 [==============================] - 2s 215ms/step - loss: 1.4098 - accuracy: 0.4062 - val_loss: 1.5042 - val_accuracy: 0.3203\n",
            "Epoch 36/50\n",
            "8/8 [==============================] - 2s 208ms/step - loss: 1.4001 - accuracy: 0.4297 - val_loss: 1.6538 - val_accuracy: 0.2266\n",
            "Epoch 37/50\n",
            "8/8 [==============================] - 2s 217ms/step - loss: 1.3313 - accuracy: 0.5078 - val_loss: 1.4906 - val_accuracy: 0.3438\n",
            "Epoch 38/50\n",
            "8/8 [==============================] - 2s 212ms/step - loss: 1.3825 - accuracy: 0.4844 - val_loss: 1.5304 - val_accuracy: 0.3281\n",
            "Epoch 39/50\n",
            "8/8 [==============================] - 2s 214ms/step - loss: 1.3204 - accuracy: 0.3906 - val_loss: 1.4763 - val_accuracy: 0.3594\n",
            "Epoch 40/50\n",
            "8/8 [==============================] - 2s 205ms/step - loss: 1.1815 - accuracy: 0.5528 - val_loss: 1.4631 - val_accuracy: 0.3828\n",
            "Epoch 41/50\n",
            "8/8 [==============================] - 2s 211ms/step - loss: 1.3437 - accuracy: 0.4297 - val_loss: 1.4342 - val_accuracy: 0.3828\n",
            "Epoch 42/50\n",
            "8/8 [==============================] - 2s 213ms/step - loss: 1.2180 - accuracy: 0.4797 - val_loss: 1.5552 - val_accuracy: 0.3516\n",
            "Epoch 43/50\n",
            "8/8 [==============================] - 2s 219ms/step - loss: 1.2285 - accuracy: 0.5000 - val_loss: 1.4395 - val_accuracy: 0.3516\n",
            "Epoch 44/50\n",
            "8/8 [==============================] - 2s 221ms/step - loss: 1.1559 - accuracy: 0.5312 - val_loss: 1.4621 - val_accuracy: 0.3438\n",
            "Epoch 45/50\n",
            "8/8 [==============================] - 2s 221ms/step - loss: 1.2294 - accuracy: 0.5156 - val_loss: 1.4634 - val_accuracy: 0.3594\n",
            "Epoch 46/50\n",
            "8/8 [==============================] - 2s 220ms/step - loss: 1.1964 - accuracy: 0.4922 - val_loss: 1.4453 - val_accuracy: 0.3359\n",
            "Epoch 47/50\n",
            "8/8 [==============================] - 2s 216ms/step - loss: 1.0936 - accuracy: 0.5391 - val_loss: 1.5958 - val_accuracy: 0.3203\n",
            "Epoch 48/50\n",
            "8/8 [==============================] - 2s 209ms/step - loss: 1.0620 - accuracy: 0.5691 - val_loss: 1.4171 - val_accuracy: 0.3516\n",
            "Epoch 49/50\n",
            "8/8 [==============================] - 2s 216ms/step - loss: 1.0428 - accuracy: 0.5469 - val_loss: 1.6304 - val_accuracy: 0.3203\n",
            "Epoch 50/50\n",
            "8/8 [==============================] - 2s 216ms/step - loss: 1.1680 - accuracy: 0.5234 - val_loss: 1.4233 - val_accuracy: 0.3750\n"
          ]
        }
      ]
    },
    {
      "cell_type": "code",
      "source": [
        "import matplotlib.pyplot as plt\n",
        "\n",
        "plt.plot(history.history['loss'],label='train loss')\n",
        "plt.plot(history.history['val_loss'],label='val loss')\n",
        "plt.legend()\n",
        "plt.show()\n",
        "plt.savefig('q2_IT20212940_loss')\n",
        "\n",
        "plt.plot(history.history['accuracy'],label='train acc')\n",
        "plt.plot(history.history['val_accuracy'],label='val acc')\n",
        "plt.legend()\n",
        "plt.show()\n",
        "plt.savefig('q2_IT20212940_accuracy')"
      ],
      "metadata": {
        "colab": {
          "base_uri": "https://localhost:8080/",
          "height": 530
        },
        "id": "jtO_CoZpdbHR",
        "outputId": "382089cd-1d3c-479e-f3c3-49ba149dbb0e"
      },
      "execution_count": 13,
      "outputs": [
        {
          "output_type": "display_data",
          "data": {
            "text/plain": [
              "<Figure size 432x288 with 1 Axes>"
            ],
            "image/png": "[encoded data removed]"
          },
          "metadata": {
            "needs_background": "light"
          }
        },
        {
          "output_type": "display_data",
          "data": {
            "text/plain": [
              "<Figure size 432x288 with 1 Axes>"
            ],
            "image/png": "[encoded data removed]"
          },
          "metadata": {
            "needs_background": "light"
          }
        },
        {
          "output_type": "display_data",
          "data": {
            "text/plain": [
              "<Figure size 432x288 with 0 Axes>"
            ]
          },
          "metadata": {}
        }
      ]
    },
    {
      "cell_type": "code",
      "source": [],
      "metadata": {
        "id": "wuuY612odbKy"
      },
      "execution_count": null,
      "outputs": []
    }
  ]
}