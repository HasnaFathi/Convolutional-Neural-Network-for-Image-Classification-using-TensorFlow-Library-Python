{
  "nbformat": 4,
  "nbformat_minor": 0,
  "metadata": {
    "colab": {
      "provenance": [],
      "collapsed_sections": []
    },
    "kernelspec": {
      "name": "python3",
      "display_name": "Python 3"
    },
    "language_info": {
      "name": "python"
    }
  },
  "cells": [
    {
      "cell_type": "code",
      "execution_count": 1,
      "metadata": {
        "colab": {
          "base_uri": "https://localhost:8080/"
        },
        "id": "gMBySmvUB-JF",
        "outputId": "959e267d-96c6-471a-c095-ac0bc0bac71b"
      },
      "outputs": [
        {
          "output_type": "stream",
          "name": "stdout",
          "text": [
            "Mounted at /content/drive\n"
          ]
        }
      ],
      "source": [
        "from google.colab import drive\n",
        "drive.mount('/content/drive')"
      ]
    },
    {
      "cell_type": "code",
      "source": [
        "%cd /content/drive/MyDrive/IT20212940"
      ],
      "metadata": {
        "colab": {
          "base_uri": "https://localhost:8080/"
        },
        "id": "G60oOhLICbju",
        "outputId": "64d159cc-4b86-4c0f-fab6-3afa393d3624"
      },
      "execution_count": 13,
      "outputs": [
        {
          "output_type": "stream",
          "name": "stdout",
          "text": [
            "/content/drive/MyDrive/IT20212940\n"
          ]
        }
      ]
    },
    {
      "cell_type": "code",
      "source": [
        "train_path = 'Training_data'\n",
        "valid_path = 'Testing_data'"
      ],
      "metadata": {
        "id": "-iNVoPyOXnIU"
      },
      "execution_count": 16,
      "outputs": []
    },
    {
      "cell_type": "code",
      "source": [
        "import tensorflow as tf\n",
        "\n",
        "model = tf.keras.models.Sequential([\n",
        "\t\n",
        "#1 convolution \n",
        "\ttf.keras.layers.Conv2D(filters=2,kernel_size=3,activation='sigmoid',strides=1,input_shape=(124,124,3)),\n",
        "\ttf.keras.layers.MaxPooling2D(2, 2),\n",
        "#2 convolution\n",
        "\ttf.keras.layers.Conv2D(filters=2,kernel_size=3,activation='relu',strides=1),\n",
        "\ttf.keras.layers.MaxPooling2D(pool_size=2),\n",
        "\n",
        "\n",
        "\ttf.keras.layers.Flatten(), #into column vector\n",
        "\n",
        "#50 neurons in the hidden layer\n",
        "\ttf.keras.layers.Dense(50,activation='relu'),\n",
        " \n",
        "#5 output neuron \n",
        "\ttf.keras.layers.Dense(5,activation='softmax')\n",
        "\t\n",
        "])"
      ],
      "metadata": {
        "id": "1lggL9faCbpT"
      },
      "execution_count": 44,
      "outputs": []
    },
    {
      "cell_type": "code",
      "source": [
        "model.summary()"
      ],
      "metadata": {
        "colab": {
          "base_uri": "https://localhost:8080/"
        },
        "id": "_UUQTd7nCbyF",
        "outputId": "c5ea57e5-9b7f-4090-f35a-9a30a0ddf078"
      },
      "execution_count": 45,
      "outputs": [
        {
          "output_type": "stream",
          "name": "stdout",
          "text": [
            "Model: \"sequential_3\"\n",
            "_________________________________________________________________\n",
            " Layer (type)                Output Shape              Param #   \n",
            "=================================================================\n",
            " conv2d_6 (Conv2D)           (None, 122, 122, 2)       56        \n",
            "                                                                 \n",
            " max_pooling2d_6 (MaxPooling  (None, 61, 61, 2)        0         \n",
            " 2D)                                                             \n",
            "                                                                 \n",
            " conv2d_7 (Conv2D)           (None, 59, 59, 2)         38        \n",
            "                                                                 \n",
            " max_pooling2d_7 (MaxPooling  (None, 29, 29, 2)        0         \n",
            " 2D)                                                             \n",
            "                                                                 \n",
            " flatten_2 (Flatten)         (None, 1682)              0         \n",
            "                                                                 \n",
            " dense_6 (Dense)             (None, 50)                84150     \n",
            "                                                                 \n",
            " dense_7 (Dense)             (None, 5)                 255       \n",
            "                                                                 \n",
            "=================================================================\n",
            "Total params: 84,499\n",
            "Trainable params: 84,499\n",
            "Non-trainable params: 0\n",
            "_________________________________________________________________\n"
          ]
        }
      ]
    },
    {
      "cell_type": "code",
      "source": [
        "from tensorflow.keras.optimizers import RMSprop\n",
        "model.compile(loss='categorical_crossentropy',optimizer=RMSprop(lr=0.001),metrics=['accuracy'])"
      ],
      "metadata": {
        "id": "m2a4Re_zYPtV"
      },
      "execution_count": 46,
      "outputs": []
    },
    {
      "cell_type": "code",
      "source": [],
      "metadata": {
        "id": "FcWVvG1yYlEa"
      },
      "execution_count": null,
      "outputs": []
    },
    {
      "cell_type": "code",
      "source": [
        "from tensorflow.keras.preprocessing.image import ImageDataGenerator\n",
        "\n",
        "train_datagen = ImageDataGenerator(rescale = 1./255)\n",
        "\n",
        "train_generator = train_datagen.flow_from_directory(train_path,target_size=(124,124),batch_size=16,class_mode='categorical')\n",
        "\n",
        "test_datagen = ImageDataGenerator(rescale = 1./255)\n",
        "\n",
        "test_set = train_datagen.flow_from_directory(valid_path,target_size=(124,124),batch_size=32,class_mode='categorical')\n"
      ],
      "metadata": {
        "colab": {
          "base_uri": "https://localhost:8080/"
        },
        "id": "76TmnZ0bYbow",
        "outputId": "1c258fa2-9480-4da3-c4f9-af90fa753962"
      },
      "execution_count": 47,
      "outputs": [
        {
          "output_type": "stream",
          "name": "stdout",
          "text": [
            "Found 523 images belonging to 5 classes.\n",
            "Found 128 images belonging to 5 classes.\n"
          ]
        }
      ]
    },
    {
      "cell_type": "code",
      "source": [
        "history = model.fit(train_generator,validation_data=test_set,steps_per_epoch=8,epochs=50)"
      ],
      "metadata": {
        "colab": {
          "base_uri": "https://localhost:8080/"
        },
        "id": "JeJ5VnG2YbcA",
        "outputId": "5d018c41-12c9-4272-8635-8700ef87e311"
      },
      "execution_count": 48,
      "outputs": [
        {
          "output_type": "stream",
          "name": "stdout",
          "text": [
            "Epoch 1/50\n",
            "8/8 [==============================] - 81s 11s/step - loss: 2.2912 - accuracy: 0.1719 - val_loss: 1.6106 - val_accuracy: 0.1797\n",
            "Epoch 2/50\n",
            "8/8 [==============================] - 8s 965ms/step - loss: 1.6209 - accuracy: 0.2891 - val_loss: 1.5984 - val_accuracy: 0.2656\n",
            "Epoch 3/50\n",
            "8/8 [==============================] - 8s 1s/step - loss: 1.6106 - accuracy: 0.1797 - val_loss: 1.6078 - val_accuracy: 0.2188\n",
            "Epoch 4/50\n",
            "8/8 [==============================] - 9s 1s/step - loss: 1.6076 - accuracy: 0.2578 - val_loss: 1.6071 - val_accuracy: 0.2656\n",
            "Epoch 5/50\n",
            "8/8 [==============================] - 6s 777ms/step - loss: 1.6079 - accuracy: 0.2109 - val_loss: 1.6067 - val_accuracy: 0.2656\n",
            "Epoch 6/50\n",
            "8/8 [==============================] - 5s 569ms/step - loss: 1.6060 - accuracy: 0.2656 - val_loss: 1.6060 - val_accuracy: 0.2656\n",
            "Epoch 7/50\n",
            "8/8 [==============================] - 4s 416ms/step - loss: 1.6058 - accuracy: 0.2812 - val_loss: 1.6054 - val_accuracy: 0.2656\n",
            "Epoch 8/50\n",
            "8/8 [==============================] - 3s 412ms/step - loss: 1.6025 - accuracy: 0.2812 - val_loss: 1.6045 - val_accuracy: 0.2656\n",
            "Epoch 9/50\n",
            "8/8 [==============================] - 2s 281ms/step - loss: 1.6025 - accuracy: 0.3047 - val_loss: 1.6037 - val_accuracy: 0.2656\n",
            "Epoch 10/50\n",
            "8/8 [==============================] - 3s 352ms/step - loss: 1.6025 - accuracy: 0.2734 - val_loss: 1.6030 - val_accuracy: 0.2656\n",
            "Epoch 11/50\n",
            "8/8 [==============================] - 2s 282ms/step - loss: 1.6024 - accuracy: 0.2422 - val_loss: 1.6024 - val_accuracy: 0.2656\n",
            "Epoch 12/50\n",
            "8/8 [==============================] - 3s 333ms/step - loss: 1.6019 - accuracy: 0.3008 - val_loss: 1.6018 - val_accuracy: 0.2656\n",
            "Epoch 13/50\n",
            "8/8 [==============================] - 3s 326ms/step - loss: 1.5998 - accuracy: 0.2734 - val_loss: 1.6012 - val_accuracy: 0.2656\n",
            "Epoch 14/50\n",
            "8/8 [==============================] - 2s 214ms/step - loss: 1.5982 - accuracy: 0.3359 - val_loss: 1.6006 - val_accuracy: 0.2656\n",
            "Epoch 15/50\n",
            "8/8 [==============================] - 2s 210ms/step - loss: 1.6007 - accuracy: 0.2439 - val_loss: 1.6001 - val_accuracy: 0.2656\n",
            "Epoch 16/50\n",
            "8/8 [==============================] - 2s 217ms/step - loss: 1.6027 - accuracy: 0.2500 - val_loss: 1.5998 - val_accuracy: 0.2656\n",
            "Epoch 17/50\n",
            "8/8 [==============================] - 2s 210ms/step - loss: 1.6025 - accuracy: 0.2734 - val_loss: 1.5994 - val_accuracy: 0.2656\n",
            "Epoch 18/50\n",
            "8/8 [==============================] - 2s 211ms/step - loss: 1.6083 - accuracy: 0.2188 - val_loss: 1.5995 - val_accuracy: 0.2656\n",
            "Epoch 19/50\n",
            "8/8 [==============================] - 2s 220ms/step - loss: 1.5977 - accuracy: 0.2683 - val_loss: 1.5989 - val_accuracy: 0.2656\n",
            "Epoch 20/50\n",
            "8/8 [==============================] - 2s 216ms/step - loss: 1.5963 - accuracy: 0.2846 - val_loss: 1.5982 - val_accuracy: 0.2656\n",
            "Epoch 21/50\n",
            "8/8 [==============================] - 2s 218ms/step - loss: 1.5991 - accuracy: 0.2656 - val_loss: 1.5978 - val_accuracy: 0.2656\n",
            "Epoch 22/50\n",
            "8/8 [==============================] - 2s 216ms/step - loss: 1.5909 - accuracy: 0.3047 - val_loss: 1.5971 - val_accuracy: 0.2656\n",
            "Epoch 23/50\n",
            "8/8 [==============================] - 2s 213ms/step - loss: 1.5970 - accuracy: 0.2891 - val_loss: 1.5967 - val_accuracy: 0.2656\n",
            "Epoch 24/50\n",
            "8/8 [==============================] - 2s 211ms/step - loss: 1.5931 - accuracy: 0.2969 - val_loss: 1.5962 - val_accuracy: 0.2656\n",
            "Epoch 25/50\n",
            "8/8 [==============================] - 2s 216ms/step - loss: 1.5973 - accuracy: 0.2500 - val_loss: 1.5959 - val_accuracy: 0.2656\n",
            "Epoch 26/50\n",
            "8/8 [==============================] - 2s 213ms/step - loss: 1.5915 - accuracy: 0.2969 - val_loss: 1.5954 - val_accuracy: 0.2656\n",
            "Epoch 27/50\n",
            "8/8 [==============================] - 2s 219ms/step - loss: 1.6039 - accuracy: 0.2602 - val_loss: 1.5953 - val_accuracy: 0.2656\n",
            "Epoch 28/50\n",
            "8/8 [==============================] - 2s 206ms/step - loss: 1.6013 - accuracy: 0.2683 - val_loss: 1.5951 - val_accuracy: 0.2656\n",
            "Epoch 29/50\n",
            "8/8 [==============================] - 2s 211ms/step - loss: 1.5908 - accuracy: 0.2764 - val_loss: 1.5945 - val_accuracy: 0.2656\n",
            "Epoch 30/50\n",
            "8/8 [==============================] - 2s 206ms/step - loss: 1.6040 - accuracy: 0.2276 - val_loss: 1.5945 - val_accuracy: 0.2656\n",
            "Epoch 31/50\n",
            "8/8 [==============================] - 2s 211ms/step - loss: 1.5973 - accuracy: 0.2344 - val_loss: 1.5942 - val_accuracy: 0.2656\n",
            "Epoch 32/50\n",
            "8/8 [==============================] - 2s 212ms/step - loss: 1.5912 - accuracy: 0.2734 - val_loss: 1.5938 - val_accuracy: 0.2656\n",
            "Epoch 33/50\n",
            "8/8 [==============================] - 2s 207ms/step - loss: 1.5945 - accuracy: 0.2500 - val_loss: 1.5935 - val_accuracy: 0.2656\n",
            "Epoch 34/50\n",
            "8/8 [==============================] - 2s 216ms/step - loss: 1.5906 - accuracy: 0.2927 - val_loss: 1.5931 - val_accuracy: 0.2656\n",
            "Epoch 35/50\n",
            "8/8 [==============================] - 2s 212ms/step - loss: 1.5997 - accuracy: 0.2578 - val_loss: 1.5930 - val_accuracy: 0.2656\n",
            "Epoch 36/50\n",
            "8/8 [==============================] - 2s 215ms/step - loss: 1.5900 - accuracy: 0.2812 - val_loss: 1.5926 - val_accuracy: 0.2656\n",
            "Epoch 37/50\n",
            "8/8 [==============================] - 2s 206ms/step - loss: 1.5732 - accuracy: 0.3496 - val_loss: 1.5920 - val_accuracy: 0.2656\n",
            "Epoch 38/50\n",
            "8/8 [==============================] - 2s 219ms/step - loss: 1.5812 - accuracy: 0.2734 - val_loss: 1.5916 - val_accuracy: 0.2656\n",
            "Epoch 39/50\n",
            "8/8 [==============================] - 2s 208ms/step - loss: 1.5800 - accuracy: 0.3438 - val_loss: 1.5912 - val_accuracy: 0.2656\n",
            "Epoch 40/50\n",
            "8/8 [==============================] - 2s 213ms/step - loss: 1.5974 - accuracy: 0.2422 - val_loss: 1.5910 - val_accuracy: 0.2656\n",
            "Epoch 41/50\n",
            "8/8 [==============================] - 2s 213ms/step - loss: 1.5793 - accuracy: 0.3171 - val_loss: 1.5906 - val_accuracy: 0.2656\n",
            "Epoch 42/50\n",
            "8/8 [==============================] - 2s 216ms/step - loss: 1.6007 - accuracy: 0.2114 - val_loss: 1.5905 - val_accuracy: 0.2656\n",
            "Epoch 43/50\n",
            "8/8 [==============================] - 2s 213ms/step - loss: 1.5904 - accuracy: 0.3125 - val_loss: 1.5902 - val_accuracy: 0.2656\n",
            "Epoch 44/50\n",
            "8/8 [==============================] - 2s 207ms/step - loss: 1.5905 - accuracy: 0.2602 - val_loss: 1.5900 - val_accuracy: 0.2656\n",
            "Epoch 45/50\n",
            "8/8 [==============================] - 2s 208ms/step - loss: 1.5806 - accuracy: 0.2891 - val_loss: 1.5896 - val_accuracy: 0.2656\n",
            "Epoch 46/50\n",
            "8/8 [==============================] - 2s 219ms/step - loss: 1.5789 - accuracy: 0.3125 - val_loss: 1.5892 - val_accuracy: 0.2656\n",
            "Epoch 47/50\n",
            "8/8 [==============================] - 2s 215ms/step - loss: 1.5867 - accuracy: 0.2969 - val_loss: 1.5890 - val_accuracy: 0.2656\n",
            "Epoch 48/50\n",
            "8/8 [==============================] - 2s 211ms/step - loss: 1.5731 - accuracy: 0.3359 - val_loss: 1.5886 - val_accuracy: 0.2656\n",
            "Epoch 49/50\n",
            "8/8 [==============================] - 2s 212ms/step - loss: 1.5832 - accuracy: 0.3125 - val_loss: 1.5884 - val_accuracy: 0.2656\n",
            "Epoch 50/50\n",
            "8/8 [==============================] - 2s 211ms/step - loss: 1.5792 - accuracy: 0.2812 - val_loss: 1.5880 - val_accuracy: 0.2656\n"
          ]
        }
      ]
    },
    {
      "cell_type": "code",
      "source": [
        "import matplotlib.pyplot as plt\n",
        "\n",
        "plt.plot(history.history['loss'],label='train loss')\n",
        "plt.plot(history.history['val_loss'],label='val loss')\n",
        "plt.legend()\n",
        "plt.show()\n",
        "plt.savefig('q1_IT20212940_loss')\n",
        "\n",
        "plt.plot(history.history['accuracy'],label='train acc')\n",
        "plt.plot(history.history['val_accuracy'],label='val acc')\n",
        "plt.legend()\n",
        "plt.show()\n",
        "plt.savefig('q1_IT20212940_accuracy')"
      ],
      "metadata": {
        "colab": {
          "base_uri": "https://localhost:8080/",
          "height": 530
        },
        "id": "CAizTVZeYPp2",
        "outputId": "de1d0cf3-c3fa-426e-bc11-06cb768bace1"
      },
      "execution_count": 51,
      "outputs": [
        {
          "output_type": "display_data",
          "data": {
            "text/plain": [
              "<Figure size 432x288 with 1 Axes>"
            ],
            "image/png": "[encoded data removed]"
          },
          "metadata": {
            "needs_background": "light"
          }
        },
        {
          "output_type": "display_data",
          "data": {
            "text/plain": [
              "<Figure size 432x288 with 1 Axes>"
            ],
            "image/png": "[encoded data removed]"
          },
          "metadata": {
            "needs_background": "light"
          }
        },
        {
          "output_type": "display_data",
          "data": {
            "text/plain": [
              "<Figure size 432x288 with 0 Axes>"
            ]
          },
          "metadata": {}
        }
      ]
    },
    {
      "cell_type": "code",
      "source": [],
      "metadata": {
        "id": "1z5rKGCBYPlT"
      },
      "execution_count": null,
      "outputs": []
    }
  ]
}